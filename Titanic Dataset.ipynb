{
 "cells": [
  {
   "cell_type": "code",
   "execution_count": 1,
   "id": "fe5db17b",
   "metadata": {},
   "outputs": [],
   "source": [
    "import numpy as np # linear algebra\n",
    "import pandas as pd # data processing, CSV file I/O (e.g. pd.read_csv)"
   ]
  },
  {
   "cell_type": "code",
   "execution_count": null,
   "id": "795c9a41",
   "metadata": {},
   "outputs": [],
   "source": [
    "import os\n",
    "for dirname, _, filenames in os.walk('/kaggle/input'):\n",
    "    for filename in filenames:\n",
    "        print(os.path.join(dirname, filename))"
   ]
  },
  {
   "cell_type": "code",
   "execution_count": null,
   "id": "c50b6d3b",
   "metadata": {},
   "outputs": [],
   "source": [
    "import pandas as pd\n",
    "import numpy as np\n",
    "import matplotlib.pyplot as plt\n",
    "import seaborn as sns"
   ]
  },
  {
   "cell_type": "code",
   "execution_count": null,
   "id": "2b633e33",
   "metadata": {},
   "outputs": [],
   "source": [
    "data=pd.read_csv('/kaggle/input/titanic/train.csv')\n",
    "test=pd.read_csv('/kaggle/input/titanic/test.csv')\n",
    "test_id=test['PassengerId']"
   ]
  },
  {
   "cell_type": "code",
   "execution_count": null,
   "id": "21488463",
   "metadata": {},
   "outputs": [],
   "source": [
    "data.head()"
   ]
  },
  {
   "cell_type": "code",
   "execution_count": null,
   "id": "2e9bdaa4",
   "metadata": {},
   "outputs": [],
   "source": [
    "print(data.isnull().sum())"
   ]
  },
  {
   "cell_type": "code",
   "execution_count": null,
   "id": "8033f578",
   "metadata": {},
   "outputs": [],
   "source": [
    "print(test.isnull().sum())"
   ]
  },
  {
   "cell_type": "code",
   "execution_count": null,
   "id": "b42fa615",
   "metadata": {},
   "outputs": [],
   "source": [
    "data=data.drop(['PassengerId','Name','Ticket','Cabin'],axis=1)\n",
    "test=test.drop(['PassengerId','Name','Ticket','Cabin'],axis=1)"
   ]
  },
  {
   "cell_type": "code",
   "execution_count": null,
   "id": "5ac3188e",
   "metadata": {},
   "outputs": [],
   "source": [
    "data.head()"
   ]
  },
  {
   "cell_type": "code",
   "execution_count": null,
   "id": "60789353",
   "metadata": {},
   "outputs": [],
   "source": [
    "test.head()"
   ]
  },
  {
   "cell_type": "code",
   "execution_count": null,
   "id": "dcd1e4d0",
   "metadata": {},
   "outputs": [],
   "source": [
    "print(data.isnull().sum())"
   ]
  },
  {
   "cell_type": "code",
   "execution_count": null,
   "id": "0ecaa827",
   "metadata": {},
   "outputs": [],
   "source": [
    "print(data[['Age','Fare']].median())\n",
    "print(test[['Age','Fare']].median())"
   ]
  },
  {
   "cell_type": "code",
   "execution_count": null,
   "id": "4027146d",
   "metadata": {},
   "outputs": [],
   "source": [
    "data['Age'].fillna(\"28\", inplace=True)\n",
    "data['Fare'].fillna(\"14.4542\", inplace=True)\n",
    "test['Age'].fillna('27',inplace=True)\n",
    "test['Fare'].fillna('14.4542',inplace=True)"
   ]
  },
  {
   "cell_type": "code",
   "execution_count": null,
   "id": "45f36e07",
   "metadata": {},
   "outputs": [],
   "source": [
    "print(data.isnull().sum())"
   ]
  },
  {
   "cell_type": "code",
   "execution_count": null,
   "id": "42abb422",
   "metadata": {},
   "outputs": [],
   "source": [
    "data['Embarked'].mode()"
   ]
  },
  {
   "cell_type": "code",
   "execution_count": null,
   "id": "774434b0",
   "metadata": {},
   "outputs": [],
   "source": [
    "print(data.isnull().sum())"
   ]
  },
  {
   "cell_type": "code",
   "execution_count": null,
   "id": "6618132c",
   "metadata": {},
   "outputs": [],
   "source": [
    "data.info()"
   ]
  },
  {
   "cell_type": "code",
   "execution_count": null,
   "id": "c383484d",
   "metadata": {},
   "outputs": [],
   "source": [
    "data['Sex']=data['Sex'].apply({'male':0,'female':1}.get) \n",
    "data['Embarked']=data['Embarked'].apply({'S':0,'Q':1, 'C':2}.get) \n",
    "test['Sex']=test['Sex'].apply({'male':0,'female':1}.get) \n",
    "test['Embarked']=test['Embarked'].apply({'S':0,'Q':1, 'C':2}.get)"
   ]
  },
  {
   "cell_type": "code",
   "execution_count": null,
   "id": "73aa6176",
   "metadata": {},
   "outputs": [],
   "source": [
    "x=data.drop(['Survived'],axis=1)\n",
    "y=data['Survived']"
   ]
  },
  {
   "cell_type": "code",
   "execution_count": null,
   "id": "534701b1",
   "metadata": {},
   "outputs": [],
   "source": [
    "from sklearn.model_selection import train_test_split\n",
    "x_train,x_test,y_train,y_test=train_test_split(x,y,test_size=0.2)"
   ]
  },
  {
   "cell_type": "code",
   "execution_count": null,
   "id": "11e632c6",
   "metadata": {},
   "outputs": [],
   "source": [
    "forest.fit(x_train,y_train)"
   ]
  },
  {
   "cell_type": "code",
   "execution_count": null,
   "id": "c999be28",
   "metadata": {},
   "outputs": [],
   "source": [
    "forest_pred=forest.predict(x_test)"
   ]
  },
  {
   "cell_type": "code",
   "execution_count": null,
   "id": "1c2edc5a",
   "metadata": {},
   "outputs": [],
   "source": [
    "print(cm)"
   ]
  },
  {
   "cell_type": "code",
   "execution_count": null,
   "id": "cb3e3204",
   "metadata": {},
   "outputs": [],
   "source": [
    "final_pred=forest.predict(test)"
   ]
  },
  {
   "cell_type": "code",
   "execution_count": null,
   "id": "87421bcb",
   "metadata": {},
   "outputs": [],
   "source": [
    "df=pd.DataFrame({'PassengerId':test_id.values,\"Survived\":final_pred})"
   ]
  },
  {
   "cell_type": "code",
   "execution_count": null,
   "id": "526cbebe",
   "metadata": {},
   "outputs": [],
   "source": [
    "df.to_csv('final_pred',index=False)"
   ]
  }
 ],
 "metadata": {
  "kernelspec": {
   "display_name": "Python 3 (ipykernel)",
   "language": "python",
   "name": "python3"
  },
  "language_info": {
   "codemirror_mode": {
    "name": "ipython",
    "version": 3
   },
   "file_extension": ".py",
   "mimetype": "text/x-python",
   "name": "python",
   "nbconvert_exporter": "python",
   "pygments_lexer": "ipython3",
   "version": "3.9.12"
  }
 },
 "nbformat": 4,
 "nbformat_minor": 5
}
